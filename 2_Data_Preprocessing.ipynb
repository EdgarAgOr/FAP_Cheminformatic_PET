{
  "nbformat": 4,
  "nbformat_minor": 0,
  "metadata": {
    "colab": {
      "provenance": [],
      "authorship_tag": "ABX9TyO2zWVfCfo53y2XVsQ5ngQK",
      "include_colab_link": true
    },
    "kernelspec": {
      "name": "python3",
      "display_name": "Python 3"
    },
    "language_info": {
      "name": "python"
    }
  },
  "cells": [
    {
      "cell_type": "markdown",
      "metadata": {
        "id": "view-in-github",
        "colab_type": "text"
      },
      "source": [
        "<a href=\"https://colab.research.google.com/github/EdgarAgOr/FAP_Cheminformatic_PET/blob/main/2_Data_Preprocessing.ipynb\" target=\"_parent\"><img src=\"https://colab.research.google.com/assets/colab-badge.svg\" alt=\"Open In Colab\"/></a>"
      ]
    },
    {
      "cell_type": "code",
      "execution_count": null,
      "metadata": {
        "id": "qAwpAGYUSkCf"
      },
      "outputs": [],
      "source": [
        "! pip install -q rdkit\n",
        "\n",
        "! pip install -q molvs"
      ]
    },
    {
      "cell_type": "code",
      "source": [
        "import pandas as pd\n",
        "from rdkit import Chem\n",
        "from rdkit.Chem import PandasTools\n",
        "from rdkit.Chem import rdMolDescriptors\n",
        "from molvs.standardize import Standardizer\n",
        "from molvs.charge import Uncharger, Reionizer\n",
        "from molvs.fragment import LargestFragmentChooser\n",
        "from molvs.tautomer import TautomerCanonicalizer\n",
        "from rdkit.Chem.rdmolops import GetFormalCharge, RemoveStereochemistry"
      ],
      "metadata": {
        "id": "pjPGo7RxTI_Q"
      },
      "execution_count": null,
      "outputs": []
    },
    {
      "cell_type": "code",
      "source": [
        "df = pd.read_csv (\"/content/FAP_Bsite_Sin_metales.csv\")"
      ],
      "metadata": {
        "id": "mn1_cvqITJHP"
      },
      "execution_count": null,
      "outputs": []
    },
    {
      "cell_type": "code",
      "source": [
        "df.columns"
      ],
      "metadata": {
        "id": "ABWbHjLYTJK6"
      },
      "execution_count": null,
      "outputs": []
    },
    {
      "cell_type": "code",
      "source": [
        "# Vamos a eliminar los compuestos que no tienen reportado un valor numerico de IC50\n",
        "\n",
        "df2 = df[df.IC50_nM.notna()]\n",
        "\n",
        "df2"
      ],
      "metadata": {
        "id": "bjd9RBTLTJNZ"
      },
      "execution_count": null,
      "outputs": []
    },
    {
      "cell_type": "code",
      "source": [
        "# Con esto generamos una nueva lista que se llamara 'bioactivity_class\n",
        "bioactivity_class = []\n",
        "\n",
        "for i in df2.IC50_nM:\n",
        "    if float(i) >= 10000000:\n",
        "        bioactivity_class.append ('Inactive')\n",
        "    elif float (i) <= 1000000:\n",
        "        bioactivity_class.append ('Active')\n",
        "    else:\n",
        "        bioactivity_class.append ('Intermediate')"
      ],
      "metadata": {
        "id": "_H_U2Sb7TJP6"
      },
      "execution_count": null,
      "outputs": []
    },
    {
      "cell_type": "code",
      "source": [
        "bioactivity_class"
      ],
      "metadata": {
        "id": "75MAXwThTJSE"
      },
      "execution_count": null,
      "outputs": []
    },
    {
      "cell_type": "code",
      "source": [
        "df2.BindingDB_id"
      ],
      "metadata": {
        "id": "v20syHFMTJUb"
      },
      "execution_count": null,
      "outputs": []
    },
    {
      "cell_type": "code",
      "source": [
        "mol_cid = []\n",
        "\n",
        "for i in df2.BindingDB_id:\n",
        "    mol_cid.append (i)"
      ],
      "metadata": {
        "id": "N3REW9r6TJaJ"
      },
      "execution_count": null,
      "outputs": []
    },
    {
      "cell_type": "code",
      "source": [
        "mol_cid"
      ],
      "metadata": {
        "id": "mEFWZKNqTJc1",
        "collapsed": true
      },
      "execution_count": null,
      "outputs": []
    },
    {
      "cell_type": "code",
      "source": [
        "canonical_smiles = []\n",
        "\n",
        "for i in df2.Smiles:\n",
        "    canonical_smiles.append (i)"
      ],
      "metadata": {
        "id": "fwzAnotcZBi7"
      },
      "execution_count": null,
      "outputs": []
    },
    {
      "cell_type": "code",
      "source": [
        "standard_value = []\n",
        "\n",
        "for i in df2.IC50_nM:\n",
        "    standard_value.append (i)"
      ],
      "metadata": {
        "id": "rzYGnrxfZq2s"
      },
      "execution_count": null,
      "outputs": []
    },
    {
      "cell_type": "code",
      "source": [
        "selection = ['BindingDB_id', 'Smiles','IC50_nM']\n",
        "\n",
        "df3 = df2 [selection]"
      ],
      "metadata": {
        "id": "f164uni-akGc"
      },
      "execution_count": null,
      "outputs": []
    },
    {
      "cell_type": "code",
      "source": [
        "df3"
      ],
      "metadata": {
        "id": "horL4-HVbOgd"
      },
      "execution_count": null,
      "outputs": []
    },
    {
      "cell_type": "code",
      "source": [
        "# Vamos a anexar a esta tabla la columna de bioactivity\n",
        "\n",
        "data_tuples = list (zip(mol_cid, canonical_smiles, bioactivity_class, standard_value,DataSource ))\n",
        "\n",
        "df3 = pd.DataFrame (data_tuples , columns = ['BindingDB_id', 'Smiles', 'bioactivity_class', 'IC50_nM','DataSource' ])"
      ],
      "metadata": {
        "id": "IUW7mS_hb_C0"
      },
      "execution_count": null,
      "outputs": []
    },
    {
      "cell_type": "code",
      "source": [
        "df3"
      ],
      "metadata": {
        "id": "3eQHDyUkb-5T"
      },
      "execution_count": null,
      "outputs": []
    },
    {
      "cell_type": "code",
      "source": [
        "# Vamos a eliminar los compuestos que tengan un valor de \" Intermedio\" en bioactivity_class\n",
        "\n",
        "df3_class = df3 [df3.bioactivity_class != \"Intermediate\"]"
      ],
      "metadata": {
        "id": "ZTAMKgJpb-13"
      },
      "execution_count": null,
      "outputs": []
    },
    {
      "cell_type": "code",
      "source": [
        "df3_class"
      ],
      "metadata": {
        "id": "WfxQTp_fb-v3"
      },
      "execution_count": null,
      "outputs": []
    },
    {
      "cell_type": "code",
      "source": [
        "# Vamos a salvar este DF \"preprocesado\"\n",
        "\n",
        "df3_class.to_csv (\"Bioactividad_FAPBSITE_preprocesada_data.csv\", index= False)"
      ],
      "metadata": {
        "id": "UddnwXaHb-pj"
      },
      "execution_count": null,
      "outputs": []
    },
    {
      "cell_type": "code",
      "source": [],
      "metadata": {
        "id": "ec2p2GzVb-jf"
      },
      "execution_count": null,
      "outputs": []
    },
    {
      "cell_type": "code",
      "source": [],
      "metadata": {
        "id": "je4ernTqb-S9"
      },
      "execution_count": null,
      "outputs": []
    },
    {
      "cell_type": "code",
      "source": [],
      "metadata": {
        "id": "elQdUGYZd4bb"
      },
      "execution_count": null,
      "outputs": []
    },
    {
      "cell_type": "code",
      "source": [],
      "metadata": {
        "id": "ZcGk7G4cd4Wa"
      },
      "execution_count": null,
      "outputs": []
    },
    {
      "cell_type": "code",
      "source": [],
      "metadata": {
        "id": "CHerLvyId4Rv"
      },
      "execution_count": null,
      "outputs": []
    },
    {
      "cell_type": "code",
      "source": [],
      "metadata": {
        "id": "H69uczxmd4MI"
      },
      "execution_count": null,
      "outputs": []
    },
    {
      "cell_type": "code",
      "source": [],
      "metadata": {
        "id": "FN4s_tsod4HL"
      },
      "execution_count": null,
      "outputs": []
    },
    {
      "cell_type": "code",
      "source": [],
      "metadata": {
        "id": "6qv_QH-_d4CD"
      },
      "execution_count": null,
      "outputs": []
    },
    {
      "cell_type": "code",
      "source": [],
      "metadata": {
        "id": "vUdhGz4Rd370"
      },
      "execution_count": null,
      "outputs": []
    },
    {
      "cell_type": "code",
      "source": [],
      "metadata": {
        "id": "lLXzs8-Dd30_"
      },
      "execution_count": null,
      "outputs": []
    },
    {
      "cell_type": "code",
      "source": [],
      "metadata": {
        "id": "z53gMX2Rb4Zm"
      },
      "execution_count": null,
      "outputs": []
    }
  ]
}