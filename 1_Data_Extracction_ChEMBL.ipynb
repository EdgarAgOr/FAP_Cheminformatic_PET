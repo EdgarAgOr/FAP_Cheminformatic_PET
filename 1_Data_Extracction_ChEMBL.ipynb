{
  "cells": [
    {
      "cell_type": "markdown",
      "metadata": {
        "id": "view-in-github",
        "colab_type": "text"
      },
      "source": [
        "<a href=\"https://colab.research.google.com/github/EdgarAgOr/FAP_Cheminformatic_PET/blob/main/1_Data_Extracction_ChEMBL.ipynb\" target=\"_parent\"><img src=\"https://colab.research.google.com/assets/colab-badge.svg\" alt=\"Open In Colab\"/></a>"
      ]
    },
    {
      "cell_type": "code",
      "execution_count": null,
      "metadata": {
        "colab": {
          "background_save": true
        },
        "id": "uDcMTpeVNCiR"
      },
      "outputs": [],
      "source": [
        "! pip install chembl_webresource_client\n",
        "from chembl_webresource_client.new_client import new_client"
      ]
    },
    {
      "cell_type": "code",
      "execution_count": null,
      "metadata": {
        "id": "W-q4bV_gNkgO"
      },
      "outputs": [],
      "source": [
        "client = new_client"
      ]
    },
    {
      "cell_type": "code",
      "execution_count": null,
      "metadata": {
        "id": "0cHkZobENy0b"
      },
      "outputs": [],
      "source": [
        "import pandas as pd"
      ]
    },
    {
      "cell_type": "code",
      "execution_count": null,
      "metadata": {
        "id": "fYXbGkc1N123"
      },
      "outputs": [],
      "source": [
        "target = new_client.target\n",
        "\n",
        "target_query = target.search ('fibroblast')\n",
        "\n",
        "targets = pd.DataFrame.from_dict(target_query)\n",
        "\n",
        "targets"
      ]
    },
    {
      "cell_type": "code",
      "execution_count": null,
      "metadata": {
        "id": "3kAAf4x-Oguk"
      },
      "outputs": [],
      "source": [
        "# Aqui vamos a seleccionar el target con el numero que tiene en el DataFrame en  este caso es el [30]\n",
        "\n",
        "selected_target = targets.target_chembl_id [4]\n",
        "\n",
        "selected_target"
      ]
    },
    {
      "cell_type": "code",
      "execution_count": null,
      "metadata": {
        "id": "IcMTizPgOgsN"
      },
      "outputs": [],
      "source": [
        "activity = new_client.activity\n",
        "\n",
        "res = activity.filter (target_chembl_id = selected_target). filter (type = 'IC50')"
      ]
    },
    {
      "cell_type": "code",
      "execution_count": null,
      "metadata": {
        "id": "24IQQ6UVOgpE"
      },
      "outputs": [],
      "source": [
        "df = pd.DataFrame.from_dict (res)\n",
        "\n",
        "# Aqui si queremos que el DF nos muestre solo una parte del mismo debemos usar df.head () y dentro del parentesis  podemos colocar un numero para que ese sea el valor de celdas que nos muestre\n",
        "\n",
        "df"
      ]
    },
    {
      "cell_type": "code",
      "execution_count": null,
      "metadata": {
        "id": "VupCYFzOOgl8"
      },
      "outputs": [],
      "source": [
        " # Aqui vamos a corroborar que en el DF tengamos los valores de actividad que se le indico en la linea de codigo anterior\n",
        "\n",
        " df.type.unique ()"
      ]
    },
    {
      "cell_type": "code",
      "execution_count": null,
      "metadata": {
        "id": "xMahAan0Oghh"
      },
      "outputs": [],
      "source": [
        "df.to_csv ('Bioactividad_FAP_data.csv',index = False)"
      ]
    },
    {
      "cell_type": "code",
      "execution_count": null,
      "metadata": {
        "id": "Ljk0g1DQOgcN"
      },
      "outputs": [],
      "source": []
    },
    {
      "cell_type": "code",
      "execution_count": null,
      "metadata": {
        "id": "Qhr9zJCEOgVi"
      },
      "outputs": [],
      "source": []
    },
    {
      "cell_type": "code",
      "execution_count": null,
      "metadata": {
        "id": "aaTBwTbPOgM2"
      },
      "outputs": [],
      "source": []
    },
    {
      "cell_type": "code",
      "execution_count": null,
      "metadata": {
        "id": "Z65nQdOfOEaw"
      },
      "outputs": [],
      "source": []
    }
  ],
  "metadata": {
    "colab": {
      "provenance": [],
      "authorship_tag": "ABX9TyM0ySZ2xswY28ue/KKkMkc5",
      "include_colab_link": true
    },
    "kernelspec": {
      "display_name": "Python 3",
      "name": "python3"
    },
    "language_info": {
      "name": "python"
    }
  },
  "nbformat": 4,
  "nbformat_minor": 0
}