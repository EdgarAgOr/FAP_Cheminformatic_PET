{
  "nbformat": 4,
  "nbformat_minor": 0,
  "metadata": {
    "colab": {
      "provenance": [],
      "authorship_tag": "ABX9TyPpYISXMYtQcwQgwYHm3jJ1",
      "include_colab_link": true
    },
    "kernelspec": {
      "name": "python3",
      "display_name": "Python 3"
    },
    "language_info": {
      "name": "python"
    }
  },
  "cells": [
    {
      "cell_type": "markdown",
      "metadata": {
        "id": "view-in-github",
        "colab_type": "text"
      },
      "source": [
        "<a href=\"https://colab.research.google.com/github/EdgarAgOr/FAP_Cheminformatic_PET/blob/main/3_Data_Curation_protocol.ipynb\" target=\"_parent\"><img src=\"https://colab.research.google.com/assets/colab-badge.svg\" alt=\"Open In Colab\"/></a>"
      ]
    },
    {
      "cell_type": "code",
      "source": [
        "import pandas as pd"
      ],
      "metadata": {
        "id": "3Ny9x1ISip1F"
      },
      "execution_count": null,
      "outputs": []
    },
    {
      "cell_type": "code",
      "execution_count": null,
      "metadata": {
        "id": "4K0lpV-4hHVv"
      },
      "outputs": [],
      "source": [
        "df = pd.read_csv ('/content/Bioactividad_FAPBSITE_preprocesada_data.csv')"
      ]
    },
    {
      "cell_type": "code",
      "source": [
        "df"
      ],
      "metadata": {
        "id": "YVyIK7CPinCc"
      },
      "execution_count": null,
      "outputs": []
    },
    {
      "cell_type": "code",
      "source": [
        "import pandas as pd\n",
        "! pip install -q rdkit\n",
        "! pip install -q molvs"
      ],
      "metadata": {
        "id": "k8hfRn_giyOl"
      },
      "execution_count": null,
      "outputs": []
    },
    {
      "cell_type": "code",
      "source": [
        "import pandas as pd\n",
        "from rdkit import Chem\n",
        "from rdkit.Chem import PandasTools\n",
        "from rdkit.Chem import rdMolDescriptors\n",
        "from molvs.standardize import Standardizer\n",
        "from molvs.charge import Uncharger, Reionizer\n",
        "from molvs.fragment import LargestFragmentChooser\n",
        "from molvs.tautomer import TautomerCanonicalizer\n",
        "from rdkit.Chem.rdmolops import GetFormalCharge, RemoveStereochemistry"
      ],
      "metadata": {
        "id": "v-oODVS0jDtM"
      },
      "execution_count": null,
      "outputs": []
    },
    {
      "cell_type": "code",
      "source": [
        "df.head(10)"
      ],
      "metadata": {
        "id": "WYa6qR3Oj5Fr"
      },
      "execution_count": null,
      "outputs": []
    },
    {
      "cell_type": "code",
      "source": [
        "STD = Standardizer ()\n",
        "LFC = LargestFragmentChooser ()\n",
        "UC = Uncharger ()\n",
        "RI = Reionizer()\n",
        "TC = TautomerCanonicalizer()"
      ],
      "metadata": {
        "id": "-FbbdsZmj_v_"
      },
      "execution_count": null,
      "outputs": []
    },
    {
      "cell_type": "code",
      "source": [
        "def pretreatment (notations):\n",
        "    try:\n",
        "        mol=Chem.MolFromSmiles(notations)\n",
        "        if mol == None:\n",
        "            return \"Error 1\"\n",
        "        else:\n",
        "            mol = STD (mol)\n",
        "            mol = LFC(mol)\n",
        "            allowed_elements = {\"H\",\"B\",\"C\",\"N\",\"O\",\"F\",\"Si\",\"P\",\"S\",\"Cl\",\"Br\",\"I\"}\n",
        "            actual_elements = set([atom.GetSymbol()for atom in mol.GetAtom()])\n",
        "            if len (actual_elements-allowed_elements)==0:\n",
        "                mol = UC(mol)\n",
        "                mol = RI(mol)\n",
        "                RemoveStereochemistry(mol)\n",
        "                mol = TC(mol)\n",
        "                return Chem.MolToSmiles(mol)\n",
        "            else:\n",
        "                return \"Error 2\"\n",
        "    except:\n",
        "        return \"Nope\""
      ],
      "metadata": {
        "id": "48cxaghgkFwQ"
      },
      "execution_count": null,
      "outputs": []
    },
    {
      "cell_type": "code",
      "source": [
        "df ['Smiles standarization'] = [pretreatment (i) for i in df ['Smiles']]"
      ],
      "metadata": {
        "id": "5wyIgo0IkOSm"
      },
      "execution_count": null,
      "outputs": []
    },
    {
      "cell_type": "code",
      "source": [
        "df"
      ],
      "metadata": {
        "id": "RemUjMuqkm7L"
      },
      "execution_count": null,
      "outputs": []
    },
    {
      "cell_type": "code",
      "source": [
        "df = df[df['Smiles']!= 'Error 1']"
      ],
      "metadata": {
        "id": "vtHQhzC1kn4D"
      },
      "execution_count": null,
      "outputs": []
    },
    {
      "cell_type": "code",
      "source": [
        "df = df[df['Smiles'] !='Error 2']"
      ],
      "metadata": {
        "id": "Lyb8XRfgk6nJ"
      },
      "execution_count": null,
      "outputs": []
    },
    {
      "cell_type": "code",
      "source": [
        "df = df [df['Smiles']!=\"Nope\"].reset_index(drop= True)"
      ],
      "metadata": {
        "id": "WLRuZfkNlNG7"
      },
      "execution_count": null,
      "outputs": []
    },
    {
      "cell_type": "code",
      "source": [
        "df"
      ],
      "metadata": {
        "id": "xZ0EsTvUlatE"
      },
      "execution_count": null,
      "outputs": []
    },
    {
      "cell_type": "code",
      "source": [
        "df = df.drop_duplicates(subset=['Smiles'], keep = 'first')"
      ],
      "metadata": {
        "id": "MCo9nwoVlbcE"
      },
      "execution_count": null,
      "outputs": []
    },
    {
      "cell_type": "code",
      "source": [
        "df = df.drop_duplicates(subset=['BindingDB_id'], keep = 'first')"
      ],
      "metadata": {
        "id": "kwRiccc2IzC_"
      },
      "execution_count": null,
      "outputs": []
    },
    {
      "cell_type": "code",
      "source": [
        "df"
      ],
      "metadata": {
        "id": "m23nC6kplhgE"
      },
      "execution_count": null,
      "outputs": []
    },
    {
      "cell_type": "code",
      "source": [
        "df = df.dropna()\n",
        "\n",
        "df"
      ],
      "metadata": {
        "id": "TzvuuPNMlhdh"
      },
      "execution_count": null,
      "outputs": []
    },
    {
      "cell_type": "code",
      "source": [
        "df.describe()"
      ],
      "metadata": {
        "id": "p8B6uXa5lha3"
      },
      "execution_count": null,
      "outputs": []
    },
    {
      "cell_type": "code",
      "source": [
        "def pIC50(input):\n",
        "    pIC50 = []\n",
        "    for i in input[\"IC50_nM\"]:\n",
        "        molar = i*(10**-9)\n",
        "        pIC50.append(-np.log10(molar))\n",
        "    input[\"pIC50\"]=pIC50\n",
        "    x = input.drop(\"pIC50\",T)\n",
        "\n",
        "    return x"
      ],
      "metadata": {
        "id": "_wmmhT-wlhYA"
      },
      "execution_count": null,
      "outputs": []
    },
    {
      "cell_type": "code",
      "source": [
        "df.describe()"
      ],
      "metadata": {
        "id": "PTi8NATNlhVE"
      },
      "execution_count": null,
      "outputs": []
    },
    {
      "cell_type": "code",
      "source": [
        "df"
      ],
      "metadata": {
        "id": "z8Ws-t-FlhSQ"
      },
      "execution_count": null,
      "outputs": []
    },
    {
      "cell_type": "code",
      "source": [
        "import numpy as np"
      ],
      "metadata": {
        "id": "tUT3fcATozRz"
      },
      "execution_count": null,
      "outputs": []
    },
    {
      "cell_type": "code",
      "source": [
        "df_final = pIC50(df)"
      ],
      "metadata": {
        "id": "GVAEXs-NlhPb"
      },
      "execution_count": null,
      "outputs": []
    },
    {
      "cell_type": "code",
      "source": [
        "df_final"
      ],
      "metadata": {
        "id": "GcrTzYw-m9Bs"
      },
      "execution_count": null,
      "outputs": []
    },
    {
      "cell_type": "code",
      "source": [
        "df_final.describe()"
      ],
      "metadata": {
        "id": "RAaVyAuwpa9D"
      },
      "execution_count": null,
      "outputs": []
    },
    {
      "cell_type": "code",
      "source": [
        "df.to_csv (\"Bioactividad_FAPBSITE_curada_data.csv\", index = False)"
      ],
      "metadata": {
        "id": "UnV31XUwo6q7"
      },
      "execution_count": null,
      "outputs": []
    },
    {
      "cell_type": "code",
      "source": [],
      "metadata": {
        "id": "jtl0DeBHpPEs"
      },
      "execution_count": null,
      "outputs": []
    }
  ]
}